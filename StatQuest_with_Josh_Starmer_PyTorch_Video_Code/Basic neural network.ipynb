{
 "cells": [
  {
   "cell_type": "code",
   "execution_count": 1,
   "id": "78baa6ec",
   "metadata": {},
   "outputs": [],
   "source": [
    "import torch #create tensors to raw data and weights\n",
    "import torch.nn as nn # make tensores part of nn\n",
    "import torch.nn.functional as F #gives activation function  \n",
    "from torch.optim import SGD #stochastic gradient descend\n",
    "\n",
    "import matplotlib.pyplot as plt\n",
    "import seaborn as sns"
   ]
  },
  {
   "cell_type": "code",
   "execution_count": 2,
   "id": "b32c087e",
   "metadata": {},
   "outputs": [],
   "source": [
    "class BasicNN(nn.Module):\n",
    "    def __init__(self):#creates and inicializes weights and biases + all objects will have it\n",
    "        super(BasicNN, self).__init__()\n",
    "        self.w00 = nn.Parameter(torch.tensor(1.7), requires_grad=False)\n",
    "        self.b00 = nn.Parameter(torch.tensor(-0.85), requires_grad=False)\n",
    "        self.w01 = nn.Parameter(torch.tensor(-40.8), requires_grad=False)\n",
    "\n",
    "        self.w10 = nn.Parameter(torch.tensor(12.6), requires_grad=False)\n",
    "        self.b10 = nn.Parameter(torch.tensor(0.0), requires_grad=False)\n",
    "        self.w11 = nn.Parameter(torch.tensor(2.7), requires_grad=False)\n",
    "\n",
    "        self.final_bias = nn.Parameter(torch.tensor(-16.), requires_grad=False)\n",
    "        \n",
    "    def forward(self, input):#Makes foward pass trought neural network to see what input will give out\n",
    "        input_to_top_relu = (input*self.w00)+self.b00\n",
    "        top_relu_output = F.relu(input_to_top_relu)\n",
    "        scaled_top_relu_output = top_relu_output*self.w01\n",
    "        \n",
    "        input_to_bottom_relu = (input*self.w10)+self.b10\n",
    "        bottom_relu_output = F.relu(input_to_bottom_relu)\n",
    "        scaled_bottom_relu_output = bottom_relu_output*self.w11 \n",
    "\n",
    "        input_to_final_relu = scaled_top_relu_output + scaled_bottom_relu_output + self.final_bias\n",
    "        output = F.relu(input_to_final_relu)\n",
    "\n",
    "        return output\n",
    "        \n",
    "        \n",
    "        \n"
   ]
  },
  {
   "cell_type": "code",
   "execution_count": 3,
   "id": "2880bff5",
   "metadata": {},
   "outputs": [],
   "source": [
    "input_doses = torch.linspace(start=0, end=1, steps=11)#create tendor with 11 values from 0 to 1\n",
    "#Print(input_doses)"
   ]
  },
  {
   "cell_type": "code",
   "execution_count": 4,
   "id": "1d469ef7",
   "metadata": {},
   "outputs": [
    {
     "data": {
      "text/plain": [
       "Text(0.5, 0, 'Dose')"
      ]
     },
     "execution_count": 4,
     "metadata": {},
     "output_type": "execute_result"
    },
    {
     "data": {
      "image/png": "[encoded data removed]",
      "text/plain": [
       "<Figure size 432x288 with 1 Axes>"
      ]
     },
     "metadata": {
      "needs_background": "light"
     },
     "output_type": "display_data"
    }
   ],
   "source": [
    "model = BasicNN()\n",
    "\n",
    "output_values = model(input_doses)\n",
    "\n",
    "sns.set(style=\"whitegrid\")\n",
    "\n",
    "sns.lineplot(x=input_doses, y = output_values.detach(), color = 'green', linewidth=2.5)\n",
    "\n",
    "plt.ylabel('Effectiveness')\n",
    "plt.xlabel('Dose')"
   ]
  }
 ],
 "metadata": {
  "kernelspec": {
   "display_name": "Python 3 (ipykernel)",
   "language": "python",
   "name": "python3"
  },
  "language_info": {
   "codemirror_mode": {
    "name": "ipython",
    "version": 3
   },
   "file_extension": ".py",
   "mimetype": "text/x-python",
   "name": "python",
   "nbconvert_exporter": "python",
   "pygments_lexer": "ipython3",
   "version": "3.10.4"
  }
 },
 "nbformat": 4,
 "nbformat_minor": 5
}
